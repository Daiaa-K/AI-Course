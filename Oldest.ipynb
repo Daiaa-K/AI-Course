{
 "cells": [
  {
   "cell_type": "code",
   "execution_count": 6,
   "id": "63b43014",
   "metadata": {},
   "outputs": [
    {
     "name": "stdout",
     "output_type": "stream",
     "text": [
      "Please enter age of person 1 : 16\n",
      "Please enter age of person 2 : 19\n",
      "Please enter age of person 3 : 34\n"
     ]
    }
   ],
   "source": [
    "max_age = 0\n",
    "i=0\n",
    "while i < 3:\n",
    "    age = int(input(f\"Please enter age of person {i+1} : \"))\n",
    "    if age > max_age:\n",
    "        max_age=age\n",
    "    i=i+1"
   ]
  },
  {
   "cell_type": "code",
   "execution_count": 8,
   "id": "03d218c9",
   "metadata": {},
   "outputs": [
    {
     "name": "stdout",
     "output_type": "stream",
     "text": [
      "The oldest one is 34 years old\n"
     ]
    }
   ],
   "source": [
    "print(f\"The oldest one is {max_age} years old\")"
   ]
  }
 ],
 "metadata": {
  "kernelspec": {
   "display_name": "Python 3 (ipykernel)",
   "language": "python",
   "name": "python3"
  },
  "language_info": {
   "codemirror_mode": {
    "name": "ipython",
    "version": 3
   },
   "file_extension": ".py",
   "mimetype": "text/x-python",
   "name": "python",
   "nbconvert_exporter": "python",
   "pygments_lexer": "ipython3",
   "version": "3.11.5"
  }
 },
 "nbformat": 4,
 "nbformat_minor": 5
}
