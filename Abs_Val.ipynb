{
 "cells": [
  {
   "cell_type": "code",
   "execution_count": 2,
   "id": "34808cd4",
   "metadata": {},
   "outputs": [
    {
     "name": "stdout",
     "output_type": "stream",
     "text": [
      "Please input a number, and i ll give the its absolute value: 3.3\n"
     ]
    }
   ],
   "source": [
    "num =float(input(\"Please input a number, and i ll give the its absolute value: \"))"
   ]
  },
  {
   "cell_type": "code",
   "execution_count": 3,
   "id": "67443a5e",
   "metadata": {},
   "outputs": [],
   "source": [
    "abs_num = abs(num)"
   ]
  },
  {
   "cell_type": "code",
   "execution_count": 5,
   "id": "ba4ee8e9",
   "metadata": {},
   "outputs": [
    {
     "name": "stdout",
     "output_type": "stream",
     "text": [
      "the absolute value of 3.3 is 3.3\n"
     ]
    }
   ],
   "source": [
    "print(f\"the absolute value of {num} is {abs_num}\")"
   ]
  }
 ],
 "metadata": {
  "kernelspec": {
   "display_name": "Python 3 (ipykernel)",
   "language": "python",
   "name": "python3"
  },
  "language_info": {
   "codemirror_mode": {
    "name": "ipython",
    "version": 3
   },
   "file_extension": ".py",
   "mimetype": "text/x-python",
   "name": "python",
   "nbconvert_exporter": "python",
   "pygments_lexer": "ipython3",
   "version": "3.11.5"
  }
 },
 "nbformat": 4,
 "nbformat_minor": 5
}
